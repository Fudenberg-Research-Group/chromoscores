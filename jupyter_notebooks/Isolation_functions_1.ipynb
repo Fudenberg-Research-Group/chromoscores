{
 "cells": [
  {
   "cell_type": "code",
   "execution_count": 1,
   "id": "40edb689",
   "metadata": {},
   "outputs": [],
   "source": [
    "import scipy \n",
    "\n",
    "import numpy as np\n",
    "\n",
    "import matplotlib.pylab as plt\n",
    "\n",
    "import scipy.linalg"
   ]
  },
  {
   "cell_type": "markdown",
   "id": "7e4ee2c0",
   "metadata": {},
   "source": [
    "It is considered that, in addition to the shape of the average contact frequency as a function of genomic distance, the variation along the diagonal itself, particularly near boundary elements (CTCF sites), might represent changes in biophysical parameters such as lifetime, velocity, and the number of extruders. Therefore, in this Jupyter Notebook, we defined an \"isolation score\" that measures the relative weight of contacts inside a topologically associating domain (TAD) compared to outside of it, specifically for points close to boundary elements."
   ]
  },
  {
   "cell_type": "markdown",
   "id": "3761e494",
   "metadata": {},
   "source": [
    "### function"
   ]
  },
  {
   "cell_type": "code",
   "execution_count": 2,
   "id": "b8024517",
   "metadata": {},
   "outputs": [],
   "source": [
    "def get_isolation_snippets(contact_map, delta=1,diag_offset=1,max_distance=10,state=1):\n",
    "        csize=len(contact_map)//2\n",
    "        window_size=4*(diag_offset+delta)+1\n",
    "        pile_center = contact_map[csize-window_size//2:csize+window_size//2+1,\n",
    "                       csize-window_size//2:csize+window_size//2+1]\n",
    "    \n",
    "        out_tad = np.zeros(np.shape(pile_center))\n",
    "        mask_out=np.zeros(np.shape(pile_center),dtype=bool)\n",
    "        mask_out[window_size//2-diag_offset:window_size//2,\n",
    "                 window_size//2+1:window_size//2+diag_offset+1]\\\n",
    "        =True\n",
    "        out_tad[mask_out] = pile_center[mask_out]\n",
    "        out_tad = np.tril( np.triu(out_tad,state*(diag_offset+1)), max_distance)\n",
    "        \n",
    "        \n",
    "        in_tad = np.zeros(np.shape(pile_center))\n",
    "        mask=np.zeros(np.shape(pile_center),dtype=bool)\n",
    "        mask[delta:delta+diag_offset,\n",
    "                diag_offset+delta+1:2*diag_offset+delta+1]=True\n",
    "        in_tad[mask] = pile_center[mask]\n",
    "        \n",
    "        mask=np.zeros(np.shape(pile_center),dtype=bool)\n",
    "        mask[window_size//2+delta:window_size//2+diag_offset+delta,\n",
    "             window_size//2+diag_offset+delta+1:window_size//2+2*diag_offset+delta+1]=True\n",
    "        in_tad[mask] = pile_center[mask]\n",
    "        in_tad = np.tril( np.triu(in_tad,state*(diag_offset+1)), max_distance)\n",
    "        \n",
    "        return in_tad, out_tad, pile_center\n",
    "\n",
    "def isolation_score(contact_map, delta, diag_offset, max_dist,state,pseudo_count=1):\n",
    "    in_tad, out_tad, pile_center = get_isolation_snippets(\n",
    "        contact_map, delta, diag_offset, max_dist,state\n",
    "    )\n",
    "    assert pile_center.shape == (len(in_tad), len(in_tad))\n",
    "    return (pseudo_count+np.mean(pile_center[in_tad>0]))/(pseudo_count+np.mean(pile_center[out_tad>0]))"
   ]
  },
  {
   "cell_type": "markdown",
   "id": "eddc2120",
   "metadata": {},
   "source": [
    "### Example"
   ]
  },
  {
   "cell_type": "markdown",
   "id": "20c22e6e",
   "metadata": {},
   "source": [
    "Here we can make a symmetirc matrix using a function from scipy.linalg to clarify isolated regions/scores."
   ]
  },
  {
   "cell_type": "code",
   "execution_count": 3,
   "id": "d09a14dd",
   "metadata": {},
   "outputs": [
    {
     "data": {
      "text/plain": [
       "<matplotlib.image.AxesImage at 0x7fc349c18bb0>"
      ]
     },
     "execution_count": 3,
     "metadata": {},
     "output_type": "execute_result"
    },
    {
     "data": {
      "image/png": "[encoded data removed]",
      "text/plain": [
       "<Figure size 480x480 with 1 Axes>"
      ]
     },
     "metadata": {},
     "output_type": "display_data"
    }
   ],
   "source": [
    "mat=scipy.linalg.toeplitz( [7,6,5, 4,3,2,1,3,5,7,5,4,8,3,5,5,5,5,4,3,8,5,3,7,3])\n",
    "plt.matshow(mat)"
   ]
  },
  {
   "cell_type": "markdown",
   "id": "8d7a6069",
   "metadata": {},
   "source": [
    " For such as symmetric matrix we expect to obtain isolated_score=1, either with diagonal or with excluding diagonal:"
   ]
  },
  {
   "cell_type": "code",
   "execution_count": 5,
   "id": "7a1ee000",
   "metadata": {},
   "outputs": [
    {
     "name": "stdout",
     "output_type": "stream",
     "text": [
      "isolation score is 1.0\n"
     ]
    },
    {
     "data": {
      "image/png": "[encoded data removed]",
      "text/plain": [
       "<Figure size 480x480 with 1 Axes>"
      ]
     },
     "metadata": {},
     "output_type": "display_data"
    }
   ],
   "source": [
    "a,b,c=get_isolation_snippets(mat, delta=1,diag_offset=5,max_distance=19,state=1)\n",
    "plt.matshow(a+b)\n",
    "iso_score=isolation_score(mat,delta=1,diag_offset=5,max_dist=19,state=1,pseudo_count=1)\n",
    "print('isolation score is %s'%iso_score)"
   ]
  },
  {
   "cell_type": "markdown",
   "id": "d15fd87d",
   "metadata": {},
   "source": [
    "Or, with changing size and separation:"
   ]
  },
  {
   "cell_type": "code",
   "execution_count": 6,
   "id": "5a348cc5",
   "metadata": {},
   "outputs": [
    {
     "name": "stdout",
     "output_type": "stream",
     "text": [
      "isolation score is 1.0\n"
     ]
    },
    {
     "data": {
      "image/png": "[encoded data removed]",
      "text/plain": [
       "<Figure size 480x480 with 1 Axes>"
      ]
     },
     "metadata": {},
     "output_type": "display_data"
    }
   ],
   "source": [
    "a,b,c=get_isolation_snippets(mat, delta=1,diag_offset=4,max_distance=19,state=1)\n",
    "plt.matshow(a+b)\n",
    "iso_score=isolation_score(mat,delta=1,diag_offset=4,max_dist=19,state=1,pseudo_count=1)\n",
    "print('isolation score is %s'%iso_score)"
   ]
  },
  {
   "cell_type": "code",
   "execution_count": 8,
   "id": "ec88e994",
   "metadata": {},
   "outputs": [
    {
     "name": "stdout",
     "output_type": "stream",
     "text": [
      "isolation score is 1.0\n"
     ]
    },
    {
     "data": {
      "image/png": "[encoded data removed]",
      "text/plain": [
       "<Figure size 480x480 with 1 Axes>"
      ]
     },
     "metadata": {},
     "output_type": "display_data"
    }
   ],
   "source": [
    "a,b,c=get_isolation_snippets(mat, delta=2,diag_offset=4,max_distance=19,state=1)\n",
    "plt.matshow(a+b)\n",
    "iso_score=isolation_score(mat,delta=2,diag_offset=4,max_dist=19,state=1,pseudo_count=1)\n",
    "print('isolation score is %s'%iso_score)"
   ]
  },
  {
   "cell_type": "markdown",
   "id": "a8535057",
   "metadata": {},
   "source": [
    "With including near diagonal pixels:"
   ]
  },
  {
   "cell_type": "code",
   "execution_count": 9,
   "id": "e0b1ac17",
   "metadata": {},
   "outputs": [
    {
     "name": "stdout",
     "output_type": "stream",
     "text": [
      "isolation score is 1.0\n"
     ]
    },
    {
     "data": {
      "image/png": "[encoded data removed]",
      "text/plain": [
       "<Figure size 480x480 with 1 Axes>"
      ]
     },
     "metadata": {},
     "output_type": "display_data"
    }
   ],
   "source": [
    "a,b,c=get_isolation_snippets(mat,1,5,19,0)\n",
    "plt.matshow(a+b)\n",
    "iso_score=isolation_score(mat,delta=1,diag_offset=4,max_dist=19,state=0,pseudo_count=1)\n",
    "print('isolation score is %s'%iso_score)"
   ]
  },
  {
   "cell_type": "markdown",
   "id": "646c6d1c",
   "metadata": {},
   "source": [
    "And for an unisotropic matrix:"
   ]
  },
  {
   "cell_type": "code",
   "execution_count": 12,
   "id": "fafe6503",
   "metadata": {},
   "outputs": [
    {
     "name": "stdout",
     "output_type": "stream",
     "text": [
      "isolation score is 0.4166666666666667\n"
     ]
    },
    {
     "data": {
      "image/png": "[encoded data removed]",
      "text/plain": [
       "<Figure size 480x480 with 1 Axes>"
      ]
     },
     "metadata": {},
     "output_type": "display_data"
    }
   ],
   "source": [
    "a,b,c=get_isolation_snippets(mat,1,5,19,1)\n",
    "s=a+3*b\n",
    "plt.matshow(s)\n",
    "iso_score=isolation_score(s,delta=1,diag_offset=4,max_dist=19,state=1,pseudo_count=1)\n",
    "print('isolation score is %s'%iso_score)"
   ]
  },
  {
   "cell_type": "markdown",
   "id": "902c848d",
   "metadata": {},
   "source": [
    "### Tests"
   ]
  },
  {
   "cell_type": "code",
   "execution_count": 13,
   "id": "0a2ea6e3",
   "metadata": {},
   "outputs": [],
   "source": [
    "example_A=np.array(np.ones((18,18)))\n"
   ]
  },
  {
   "cell_type": "code",
   "execution_count": 14,
   "id": "19bacb19",
   "metadata": {},
   "outputs": [
    {
     "name": "stdout",
     "output_type": "stream",
     "text": [
      "isolation score is 1.0\n"
     ]
    },
    {
     "data": {
      "image/png": "[encoded data removed]",
      "text/plain": [
       "<Figure size 480x480 with 1 Axes>"
      ]
     },
     "metadata": {},
     "output_type": "display_data"
    }
   ],
   "source": [
    "a,b,c=get_isolation_snippets(example_A,1,3,10,1)\n",
    "mat=a+b\n",
    "\n",
    "plt.matshow(mat)\n",
    "iso_score=isolation_score(mat,delta=1,diag_offset=3,max_dist=10,state=1,pseudo_count=1)\n",
    "print('isolation score is %s'%iso_score)"
   ]
  },
  {
   "cell_type": "code",
   "execution_count": 15,
   "id": "f8c27de5",
   "metadata": {},
   "outputs": [
    {
     "name": "stdout",
     "output_type": "stream",
     "text": [
      "isolation score is 2.0\n"
     ]
    },
    {
     "data": {
      "image/png": "[encoded data removed]",
      "text/plain": [
       "<Figure size 480x480 with 1 Axes>"
      ]
     },
     "metadata": {},
     "output_type": "display_data"
    }
   ],
   "source": [
    "a,b,c=get_isolation_snippets(example_A,1,3,10,1)\n",
    "mat=3*a+b\n",
    "\n",
    "plt.matshow(mat)\n",
    "iso_score=isolation_score(mat,delta=1,diag_offset=3,max_dist=10,state=1,pseudo_count=1)\n",
    "print('isolation score is %s'%iso_score)"
   ]
  },
  {
   "cell_type": "code",
   "execution_count": 16,
   "id": "14e11e7a",
   "metadata": {},
   "outputs": [
    {
     "name": "stdout",
     "output_type": "stream",
     "text": [
      "isolation score is 0.5\n"
     ]
    },
    {
     "data": {
      "image/png": "[encoded data removed]",
      "text/plain": [
       "<Figure size 480x480 with 1 Axes>"
      ]
     },
     "metadata": {},
     "output_type": "display_data"
    }
   ],
   "source": [
    "a,b,c=get_isolation_snippets(example_A,1,3,10,1)\n",
    "mat=a+3*b\n",
    "\n",
    "plt.matshow(mat)\n",
    "iso_score=isolation_score(mat,delta=1,diag_offset=3,max_dist=10,state=1,pseudo_count=1)\n",
    "print('isolation score is %s'%iso_score)"
   ]
  },
  {
   "cell_type": "code",
   "execution_count": null,
   "id": "52f29dca",
   "metadata": {},
   "outputs": [],
   "source": []
  }
 ],
 "metadata": {
  "kernelspec": {
   "display_name": "Python 3 (ipykernel)",
   "language": "python",
   "name": "python3"
  },
  "language_info": {
   "codemirror_mode": {
    "name": "ipython",
    "version": 3
   },
   "file_extension": ".py",
   "mimetype": "text/x-python",
   "name": "python",
   "nbconvert_exporter": "python",
   "pygments_lexer": "ipython3",
   "version": "3.9.13"
  }
 },
 "nbformat": 4,
 "nbformat_minor": 5
}
